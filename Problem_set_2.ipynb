{
 "cells": [
  {
   "cell_type": "raw",
   "id": "3318f5a6-413f-412b-82b9-8f5394e0ac66",
   "metadata": {},
   "source": [
    "\n",
    "Question 1\n",
    "\n",
    "Consider the following Python module:\n",
    "a = 0\n",
    "def b():\n",
    "    global a\n",
    "    a = c(a)\n",
    "    def c(a):\n",
    "        return a + 2\n",
    "        After importing the module into the interpreter, you execute:\n",
    "        >>> b()\n",
    "        >>> b()\n",
    "        >>> b()\n",
    ">>> a\n",
    "?What value is displayed when the last expression (a) is evaluated? \n",
    "Explain your answer by indicating what happens in every executed statement."
   ]
  },
  {
   "cell_type": "code",
   "execution_count": 53,
   "id": "8bbb02ff-506b-4fbe-a162-f3812f9320c2",
   "metadata": {},
   "outputs": [
    {
     "name": "stdout",
     "output_type": "stream",
     "text": [
      "6\n"
     ]
    }
   ],
   "source": [
    "a = 0\n",
    "def b():\n",
    "    global a \n",
    "    a = c(a)\n",
    "\n",
    "def c(a):\n",
    "    return a + 2\n",
    "\n",
    "b() #2  c(0) 0+2 a=2\n",
    "b() #2+2 a=2 c(2) 2+2 a =4\n",
    "b() #4+2 a=4  c(4)  4+2 = 6\n",
    "\n",
    "print(a) #prints a=6\n",
    "\n",
    "#lastly global variable is 6\n"
   ]
  },
  {
   "cell_type": "raw",
   "id": "0a07783f-298b-450f-8031-b867c870079e",
   "metadata": {},
   "source": [
    "\n",
    "Question 2\n",
    "\n",
    "Function fileLength(), given to you, takes the name of a file as input and returnsthe length of the file:\n",
    ">>> fileLength('midterm.py')284\n",
    ">>> fileLength('idterm.py')Traceback (most recent call last):File \"<pyshell#34>\", line 1, in <module>fileLength('idterm.py')File \"/Users/me/midterm.py\", line 3, in fileLengthinfile = open(filename)FileNotFoundError: \n",
    "[Errno 2] No such file or directory:'idterm.py'As shown above, if the file cannot be found by the interpreter or if it cannot be readas a text file, an exception will be raised. Modify function fileLength() so that afriendly message is printed instead:\n",
    ">>> fileLength('midterm.py')358\n",
    ">>> fileLength('idterm.py')File idterm.py not found."
   ]
  },
  {
   "cell_type": "code",
   "execution_count": 23,
   "id": "61548895-0d03-42db-b15a-9c73fece6981",
   "metadata": {},
   "outputs": [
    {
     "name": "stdout",
     "output_type": "stream",
     "text": [
      "File Filelength.txt has 123 characters.\n",
      "File File-length.txt not found\n"
     ]
    }
   ],
   "source": [
    "def fileLength(filename):\n",
    "    try:\n",
    "        with open(filename, 'r') as file:\n",
    "            content = file.read()\n",
    "            length = len(content)\n",
    "            print(\"File\", filename, \"has\", length, \"characters.\")\n",
    "\n",
    "    except FileNotFoundError:\n",
    "        print(\"File\", filename, \"not found\")\n",
    "\n",
    "# Example usage:\n",
    "fileLength('Filelength.txt')\n",
    "fileLength('File-length.txt')\n",
    "\n"
   ]
  },
  {
   "cell_type": "code",
   "execution_count": null,
   "id": "79a4b596-3391-4ee2-8b5d-e87793ae183b",
   "metadata": {},
   "outputs": [],
   "source": [
    "\n",
    "Question 3\n",
    "\n",
    "Write a class named Marsupial that can be used as shown below:\n",
    ">>> m = Marsupial()\n",
    ">>> m.put_in_pouch('doll')\n",
    ">>> m.put_in_pouch('firetruck')\n",
    ">>> m.put_in_pouch('kitten')\n",
    ">>> m.pouch_contents()['doll', 'firetruck', 'kitten']\n",
    "\n",
    "Now write a class named Kangaroo as a subclass of Marsupial that inherits all theattributes of Marsupial and also:\n",
    "\n",
    "a. extends the Marsupial __init__ constructor to take, as input, thecoordinates x and y of the Kangaroo object,\n",
    "b. supports method jump that takes number values dx and dy as input andmoves the kangaroo by dx units along the x-axis and by dy units along the y-axis, and\n",
    "c. overloads the __str__ operator so it behaves as shown below.\n",
    ">>> k = Kangaroo(0,0)\n",
    ">>> print(k)I am a Kangaroo located at coordinates (0,0)\n",
    ">>> k.put_in_pouch('doll')\n",
    ">>> k.put_in_pouch('firetruck')\n",
    ">>> k.put_in_pouch('kitten')\n",
    ">>> k.pouch_contents()['doll', 'firetruck', 'kitten']\n",
    ">>> k.jump(1,0)\n",
    ">>> k.jump(1,0)\n",
    ">>> k.jump(1,0)\n",
    ">>> print(k)I am a Kangaroo located at coordinates (3,0)"
   ]
  },
  {
   "cell_type": "code",
   "execution_count": 45,
   "id": "105dcd73-5b22-4d55-a19f-2856cf4b8e88",
   "metadata": {},
   "outputs": [
    {
     "name": "stdout",
     "output_type": "stream",
     "text": [
      "['doll', 'firetruck', 'kitten']\n",
      "I am a Kangaroo located at coordinates (0,0)\n",
      "['doll', 'firetruck', 'kitten']\n",
      "I am a Kangaroo located at coordinates (3,0)\n"
     ]
    }
   ],
   "source": [
    "#Marsupial class\n",
    "class Marsupial:\n",
    "    def __init__(self):\n",
    "        # Initialize an empty pouch to store items\n",
    "        self.pouch = []\n",
    "\n",
    "    def put_in_pouch(self, item):\n",
    "        # Add an item to the pouch\n",
    "        self.pouch.append(item)\n",
    "\n",
    "    def pouch_contents(self):\n",
    "        # Return the list of items in the pouch\n",
    "        return self.pouch\n",
    "\n",
    "# Define the Kangaroo class as a subclass of Marsupial\n",
    "class Kangaroo(Marsupial):\n",
    "    def __init__(self, x, y):\n",
    "        # Call the Marsupial's constructor and pass the x and y coordinates\n",
    "        super().__init__()\n",
    "        self.x = x\n",
    "        self.y = y\n",
    "\n",
    "    def jump(self, dx, dy):\n",
    "        # Move the Kangaroo by dx units along the x-axis and dy units along the y-axis\n",
    "        self.x += dx\n",
    "        self.y += dy\n",
    "\n",
    "    def __str__(self):\n",
    "        # locates the Kangaroo location\n",
    "        return f\"I am a Kangaroo located at coordinates ({self.x},{self.y})\"\n",
    "\n",
    "\n",
    "k = Kangaroo(0, 0)\n",
    "\n",
    "print(k)  \n",
    "\n",
    "# Puting items in Kangaroo's pouch\n",
    "k.put_in_pouch('doll')\n",
    "k.put_in_pouch('firetruck')\n",
    "k.put_in_pouch('kitten')\n",
    "\n",
    "# Displaying the items in the pouch of kangaroo\n",
    "print(k.pouch_contents())  # final result ['doll', 'firetruck', 'kitten']\n",
    "\n",
    "# Move the Kangaroo\n",
    "k.jump(1, 0)\n",
    "k.jump(1, 0)\n",
    "k.jump(1, 0)\n",
    "\n",
    "# Display the Kangaroo's updated location\n",
    "print(k)  # Output: I am a Kangaroo located at coordinates (3,0)\n",
    "\n"
   ]
  },
  {
   "cell_type": "raw",
   "id": "8d2640dd-0981-49e1-9068-37c5f5a2d1c6",
   "metadata": {},
   "source": [
    "\n",
    "Question 4\n",
    "\n",
    "Write function collatz() that takes a positive integer x as input and prints the Collatz sequence starting at x. \n",
    "A Collatz sequence is obtained by repeatedly applyingthis rule to the previous number x in the \n",
    "sequence:x = { 𝑥/2 𝑖𝑓 𝑥 𝑖𝑠 𝑒𝑣𝑒𝑛3𝑥 + 1 𝑖𝑓 𝑥 𝑖𝑠 𝑜𝑑𝑑Your function should stop when the sequence gets to number \n",
    "1. Yourimplementation must be recursive, without any loops.\n",
    ">>> collatz(1)\n",
    "1\n",
    ">>> collatz(10)\n",
    "10\n",
    "5\n",
    "1\n",
    "6\n",
    "8\n",
    "4\n",
    "2"
   ]
  },
  {
   "cell_type": "code",
   "execution_count": 24,
   "id": "94a311ac-dcfa-4f8d-a131-fbd06b9914a8",
   "metadata": {},
   "outputs": [
    {
     "name": "stdout",
     "output_type": "stream",
     "text": [
      "1\n",
      "10\n",
      "5\n",
      "16\n",
      "8\n",
      "4\n",
      "2\n",
      "1\n"
     ]
    }
   ],
   "source": [
    "def collatz(x):\n",
    "    if x == 1:\n",
    "        print(1)\n",
    "    else:\n",
    "        print(x)\n",
    "        if x % 2 == 0:\n",
    "            collatz(x // 2)\n",
    "        else:\n",
    "            collatz(3 * x + 1)\n",
    "\n",
    "\n",
    "collatz(1) #when x=1\n",
    "collatz(10) #when x=10\n"
   ]
  },
  {
   "cell_type": "raw",
   "id": "43c67ff0-0fba-423a-89c3-4b07edd0002b",
   "metadata": {},
   "source": [
    "\n",
    "Question 5\n",
    "\n",
    "Write a recursive method binary() that takes a non-negativeinteger n and prints the binary representation of integer n.\n",
    ">>> binary(0) \n",
    "0\n",
    ">>> binary(1)\n",
    "1\n",
    ">>> binary(3)\n",
    "11\n",
    ">>> binary(9)\n",
    "1001"
   ]
  },
  {
   "cell_type": "code",
   "execution_count": 17,
   "id": "00eee005-54b7-4670-b369-30d7673a4fed",
   "metadata": {},
   "outputs": [
    {
     "name": "stdout",
     "output_type": "stream",
     "text": [
      "0 \n",
      "1 \n",
      "1 1 \n",
      "1 0 0 1 "
     ]
    }
   ],
   "source": [
    "def binary(n):\n",
    "    if n > 1:\n",
    "        binary(n // 2)\n",
    "    # remainder n\n",
    "    print(n % 2, end=' ')\n",
    "\n",
    "\n",
    "binary(0)\n",
    "print()  #printing when n=0\n",
    "binary(1)\n",
    "print()\n",
    "binary(3)\n",
    "print()\n",
    "binary(9)\n"
   ]
  },
  {
   "cell_type": "raw",
   "id": "9a5e43c9-0d50-439f-938e-fbe618727553",
   "metadata": {},
   "source": [
    "\n",
    "Question 6\n",
    "\n",
    "implement a class named HeadingParser that can be used to parse an HTMLdocument, and retrieve and print all the headings in the document.\n",
    "You shouldimplement your class as a subclass of HTMLParser, defined in Standard Librarymodule html.parser. \n",
    "When fed a string containing HTML code, your class shouldprint the headings, one per line and in the order \n",
    "in which they appear in thedocument. Each heading should be indented as follows: an h1 heading should have\n",
    "indentation 0, and h2 heading should have indentation 1, etc. Test yourimplementation using w3c.html\n",
    ">>> infile = open('w3c.html')\n",
    ">>> content = infile.read()\n",
    ">>> infile.close()\n",
    ">>> hp = HeadingParser()\n",
    ">>> hp.feed(content)W3C MissionPrinciples"
   ]
  },
  {
   "cell_type": "code",
   "execution_count": 16,
   "id": "dec999ce-1a28-4afd-92e9-8bd324f93ca8",
   "metadata": {},
   "outputs": [
    {
     "name": "stdout",
     "output_type": "stream",
     "text": [
      "W3C Mission\n",
      " Principles\n"
     ]
    }
   ],
   "source": [
    "from html.parser import HTMLParser\n",
    "\n",
    "class HeadingParser(HTMLParser):\n",
    "    def __init__(self):\n",
    "        super().__init__()\n",
    "        self.in_heading = False\n",
    "\n",
    "    def handle_starttag(self, tag, attrs):\n",
    "        # Check heading Tags (h1, h2, h3, h4, h5, h6).\n",
    "        if tag in ['h1', 'h2', 'h3', 'h4', 'h5', 'h6']:\n",
    "            self.in_heading = True\n",
    "            # Determine the heading level (1 for h1, 2 for h2, )\n",
    "            self.indentation = int(tag[1])\n",
    "\n",
    "    def handle_endtag(self, tag):\n",
    "        if self.in_heading:  # Check if we're inside a heading.\n",
    "            self.in_heading = False   # comeout out when heading ends.\n",
    "\n",
    "    def handle_data(self, data):\n",
    "        if self.in_heading:  # Check if we're inside a heading.\n",
    "            print(' ' * (self.indentation - 1) + data)\n",
    "            \n",
    " #open w3c.html and reading conentent\n",
    "infile = open('w3c.html', 'r', encoding='utf-8')\n",
    "content = infile.read()\n",
    "infile.close()\n",
    "\n",
    " #passing html content to parser\n",
    "hp = HeadingParser()\n",
    "hp.feed(content)\n"
   ]
  },
  {
   "cell_type": "code",
   "execution_count": null,
   "id": "4d0416c8-0b1b-4977-a984-e1f87c41cef7",
   "metadata": {},
   "outputs": [],
   "source": [
    "\n",
    "Question 7\n",
    "\n",
    "Implement recursive function webdir() that takes as input: a URL (as a string) andnon-negative integers depth and indent. \n",
    "Your function should visit every webpage reachable from the starting URL web page in depth clicks or less, and printeach web page's URL. \n",
    "As shown below, indentation, specified by indent, shouldbe used to indicate the depth of a URL.\n",
    ">>>webdir('http://reed.cs.depaul.edu/lperkovic/csc242/test1.html', 2, 0)\n",
    "    http://reed.cs.depaul.edu/lperkovic/csc242/test1.\n",
    "    htmlhttp://reed.cs.depaul.edu/lperkovic/csc242/test2.html\n",
    "    http://reed.cs.depaul.edu/lperkovic/csc242/test4.html\n",
    "    http://reed.cs.depaul.edu/lperkovic/csc242/test3.\n",
    "    htmlhttp://reed.cs.depaul.edu/lperkovic/csc242/test4.html"
   ]
  },
  {
   "cell_type": "code",
   "execution_count": 47,
   "id": "d250674e-c36a-46c9-a1fc-502502a49f66",
   "metadata": {},
   "outputs": [
    {
     "name": "stdout",
     "output_type": "stream",
     "text": [
      "http://reed.cs.depaul.edu/lperkovic/csc242/\n",
      "    https://d2l.depaul.edu\n",
      "    https://d2l.depaul.edu/\n",
      "    https://academics.depaul.edu/calendar/Pages/default.aspx\n",
      "        https://academics.depaul.edu/calendar/Pages/default.aspx\n",
      "        https://resources.depaul.edu/student-success/Pages/default.aspx\n",
      "        http://go.depaul.edu/bluestar\n",
      "        https://campusconnect.depaul.edu/\n",
      "        https://offices.depaul.edu/depaul-central/Pages/default.aspx\n",
      "        https://d2l.depaul.edu/\n"
     ]
    }
   ],
   "source": [
    "import requests\n",
    "from bs4 import BeautifulSoup\n",
    "\n",
    "# Define a global variable to count visited URLs\n",
    "visited_urls = 0\n",
    "\n",
    "def webdir(url, depth, indent):\n",
    "    global visited_urls\n",
    "\n",
    "    if depth < 0 or visited_urls >= 10:\n",
    "        return\n",
    "\n",
    "    try:\n",
    "        response = requests.get(url)\n",
    "        if response.status_code == 200:\n",
    "            soup = BeautifulSoup(response.text, 'html.parser')\n",
    "            print(\" \" * indent + url)\n",
    "            visited_urls += 1\n",
    "\n",
    "            if visited_urls < 10 and depth > 0:\n",
    "                links = soup.find_all('a')\n",
    "                for link in links:\n",
    "                    href = link.get('href')\n",
    "                    if href and href.startswith('http'):\n",
    "                        webdir(href, depth - 1, indent + 4)\n",
    "    except requests.exceptions.RequestException:\n",
    "        pass\n",
    "\n",
    "\n",
    "webdir('http://reed.cs.depaul.edu/lperkovic/csc242/', 2, 0)\n",
    "\n"
   ]
  },
  {
   "cell_type": "raw",
   "id": "e3c6a8f0-02b7-42ea-bffd-ab3887979db2",
   "metadata": {},
   "source": [
    "\n",
    "Question 8 \n",
    "\n",
    "Write SQL queries on the below database table that return:\n",
    "a) All the temperature data.\n",
    "b) All the cities, but without repetition.\n",
    "c) All the records for India.\n",
    "d) All the Fall records.\n",
    "e) The city, country, and season for which the average rainfall is between 200and 400 millimeters.\n",
    "f) The city and country for which the average Fall temperature is above 20degrees, in increasing temperature order.\n",
    "g) The total annual rainfall for Cairo.\n",
    "h) The total rainfall for each season\n"
   ]
  },
  {
   "cell_type": "markdown",
   "id": "2a47abd2-b9b1-4342-9e2d-3920591f8a57",
   "metadata": {},
   "source": [
    "![Example Image](SQL.png)"
   ]
  },
  {
   "cell_type": "code",
   "execution_count": null,
   "id": "49c88e19-c7ae-45f8-99bf-d9c0d6311ec2",
   "metadata": {},
   "outputs": [],
   "source": [
    "CREATE TABLE BDAT (\n",
    " City varchar(255),\n",
    " Country varchar(255),\n",
    " Season varchar(255),\n",
    " Temperature varchar(255),\n",
    " rainfall varchar(255)\n",
    ");\n",
    "\n",
    "\n",
    "INSERT INTO BDAT\n",
    "VALUES ('Mumbai', 'India', 'Winter', 24.8, 5.9),\n",
    "('Mumbai', 'India', 'Spring' ,28.4, 16.2),\n",
    "('Mumbai' ,'India' ,'Spring' ,28.4 ,16.2),\n",
    "('Mumbai' ,'India' ,'Fall', 27.6, 346.0 ),\n",
    "('Mumbai' ,'India' ,'Fall' ,27.6 ,346.0 ),\n",
    "('London' ,'United Kingdom', 'Spring' ,8.3, 169.6),\n",
    "('London' ,'United Kingdom' ,'Summer' ,15.7 ,157.0),\n",
    "('London ','United Kingdom' ,'Fall', 10.4, 218.5),\n",
    "('Cairo' ,'Egypt' ,'Winter' ,13.6, 16.5),\n",
    "('Cairo' ,'Egypt' ,'Spring' ,20.7 ,6.5),\n",
    "('Cairo','Egypt', 'Summer' ,27.7 ,0.1),\n",
    "('Cairo','Egypt' , 'Fall', 22.2, 4.5);\n",
    "\n",
    "1. select temperature from BDAT;\n",
    "2. select distinct city from BDAT;\n",
    "3. select * from BDAT\n",
    "where Country = 'India';\n",
    "4. select * from BDAT\n",
    "where season = 'Fall';\n",
    "5. select city, country, season from BDAT\n",
    "where rainfall between 200 and 400 ;\n",
    "6. select city, country from BDAT\n",
    "where season= 'Fall' and temperature >20 ;\n",
    "7. select sum(rainfall) from BDAT\n",
    "where city= 'Cairo';\n",
    "8. select season, sum(rainfall) as total_annual_rainfall  from BDAT\n",
    "group by season;"
   ]
  },
  {
   "cell_type": "raw",
   "id": "c0ce72eb-c17b-4c90-bf61-42555245f1b2",
   "metadata": {},
   "source": [
    "\n",
    "Question 9\n",
    "\n",
    "Suppose list words is defined as follows:\n",
    ">>> words = ['The', 'quick', 'brown', 'fox', 'jumps', 'over','the', 'lazy', 'dog']\n",
    ">>> Write list comprehension expressions that use list words and generate the followinglists:\n",
    ">>> a) ['THE', 'QUICK', 'BROWN', 'FOX', 'JUMPS', 'OVER', 'THE','LAZY', 'DOG']\n",
    ">>> b) ['the', 'quick', 'brown', 'fox', 'jumps', 'over', 'the','lazy', 'dog']\n",
    ">>> c) [3, 5, 5, 3, 5, 4, 3, 4, 3] (the list of lengths of words in listwords).\n",
    ">>> d) [['THE', 'the', 3], ['QUICK', 'quick', 5], ['BROWN','brown', 5], ['FOX', 'fox', 3], ['JUMPS', 'jumps', 5],['OVER', 'over', 4], ['THE', 'the', 3], ['LAZY', 'lazy',4], ['DOG', 'dog', 3]] (the list containing a list for every word of listwords, where each list contains the word in uppercase and lowercase and thelength of the word.)\n",
    ">>> e) ['The', 'quick', 'brown', 'fox', 'jumps', 'over', 'the','lazy', 'dog'] (the list of words in list words containing 4 or morecharacters.)"
   ]
  },
  {
   "cell_type": "code",
   "execution_count": 39,
   "id": "20525714-8690-46bc-ae8e-d66a970c8e2a",
   "metadata": {},
   "outputs": [
    {
     "name": "stdout",
     "output_type": "stream",
     "text": [
      "['THE', 'QUICK', 'BROWN', 'FOX', 'JUMPS', 'OVER', 'THE', 'LAZY', 'DOG']\n",
      "['the', 'quick', 'brown', 'fox', 'jumps', 'over', 'the', 'lazy', 'dog']\n",
      "[3, 5, 5, 3, 5, 4, 3, 4, 3]\n",
      "[['THE', 'the', 3], ['QUICK', 'quick', 5], ['BROWN', 'brown', 5], ['FOX', 'fox', 3], ['JUMPS', 'jumps', 5], ['OVER', 'over', 4], ['THE', 'the', 3], ['LAZY', 'lazy', 4], ['DOG', 'dog', 3]]\n",
      "['quick', 'brown', 'jumps', 'over', 'lazy']\n"
     ]
    }
   ],
   "source": [
    "words = ['The', 'quick', 'brown', 'fox', 'jumps', 'over', 'the', 'lazy', 'dog']\n",
    "\n",
    "\n",
    "first = [a.upper() for a in words]\n",
    "\n",
    "\n",
    "second = [a.lower() for a in words]\n",
    "\n",
    "\n",
    "third= [len(a) for a in words]\n",
    "\n",
    "# Listing with word info\n",
    "mix = [[a.upper(), a.lower(), len(a)] for a in words]\n",
    "\n",
    "# e) Words with 4 or more characters\n",
    "last = [a for a in words if len(a) >= 4]\n",
    "\n",
    "print(first)\n",
    "print(second)\n",
    "print(third)\n",
    "print(mix)\n",
    "print(last)\n"
   ]
  },
  {
   "cell_type": "code",
   "execution_count": null,
   "id": "5a3a5463-5bfc-44d7-b4ef-f13026568b26",
   "metadata": {},
   "outputs": [],
   "source": []
  }
 ],
 "metadata": {
  "kernelspec": {
   "display_name": "Python 3 (ipykernel)",
   "language": "python",
   "name": "python3"
  },
  "language_info": {
   "codemirror_mode": {
    "name": "ipython",
    "version": 3
   },
   "file_extension": ".py",
   "mimetype": "text/x-python",
   "name": "python",
   "nbconvert_exporter": "python",
   "pygments_lexer": "ipython3",
   "version": "3.11.5"
  }
 },
 "nbformat": 4,
 "nbformat_minor": 5
}
